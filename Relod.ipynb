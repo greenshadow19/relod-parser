{
 "cells": [
  {
   "cell_type": "code",
   "execution_count": 5,
   "metadata": {},
   "outputs": [],
   "source": [
    "import requests\n",
    "from bs4 import BeautifulSoup\n",
    "import re\n",
    "import time\n",
    "import gzip\n",
    "import json\n",
    "import codecs\n",
    "from tqdm.notebook import tqdm\n",
    "from multiprocessing import Pool"
   ]
  },
  {
   "cell_type": "code",
   "execution_count": 2,
   "metadata": {},
   "outputs": [],
   "source": [
    "def get_page_relod(i):\n",
    "    global url_books_set\n",
    "    page = requests.get('https://shop.relod.ru/catalog-products/4577/?sort=PROPERTY_RATING&order=desc&PAGEN_1='+str(i))\n",
    "    soup = BeautifulSoup(page.text, 'lxml')\n",
    "    for a in soup.find_all('a', class_='bxr-font-color bxr-font-color-hover', href=True):\n",
    "        with lock:\n",
    "            with open('url_books.txt', 'a') as file:\n",
    "                print('https://shop.relod.ru' + a['href'], file=file)"
   ]
  },
  {
   "cell_type": "code",
   "execution_count": 3,
   "metadata": {},
   "outputs": [
    {
     "name": "stdout",
     "output_type": "stream",
     "text": [
      "CPU times: user 215 ms, sys: 81.7 ms, total: 297 ms\n",
      "Wall time: 3min 9s\n"
     ]
    }
   ],
   "source": [
    "%%time\n",
    "with Pool(processes=8) as pool:\n",
    "    pool.map(get_page_relod, range(254))\n",
    "    \n",
    "pool.join()"
   ]
  },
  {
   "cell_type": "code",
   "execution_count": 4,
   "metadata": {},
   "outputs": [
    {
     "data": {
      "text/plain": [
       "5012"
      ]
     },
     "execution_count": 4,
     "metadata": {},
     "output_type": "execute_result"
    }
   ],
   "source": [
    "url_books_set = set()\n",
    "with open('url_books.txt', 'r') as f: \n",
    "    for line in f:\n",
    "        url_books_set.add(line.strip())\n",
    "len(url_books_set)"
   ]
  },
  {
   "cell_type": "code",
   "execution_count": null,
   "metadata": {},
   "outputs": [],
   "source": [
    "def get_page(url, n_attempts=5, t_sleep=1, **kwargs):\n",
    "    page = requests.get(result['url'])\n",
    "    count = 0\n",
    "    while not page.ok and count < n_attempts:\n",
    "        time.sleep(t_sleep)\n",
    "        page = requests.get(result['url'])\n",
    "        count += 1\n",
    "    return page"
   ]
  },
  {
   "cell_type": "code",
   "execution_count": 5,
   "metadata": {},
   "outputs": [],
   "source": [
    "def process_page(url):\n",
    "    result = dict()\n",
    "\n",
    "    result['url'] = url\n",
    "    \n",
    "    page = get_page(result['url'])\n",
    "    if page.ok:\n",
    "        book = requests.get(result['url']).text\n",
    "    else:\n",
    "        return page\n",
    "\n",
    "    soup = BeautifulSoup(book, 'lxml')\n",
    "    \n",
    "    result['Название'] = soup.find('h1', itemprop='name').text.strip()\n",
    "\n",
    "    result['Иллюстрации'] = ['https:' + img['data-src']\n",
    "                             for img in soup.find_all('img', itemprop='image') if 'resize_cache' not in img['data-src']]\n",
    "\n",
    "    result['Метки'] = [text for text in soup.find(\n",
    "        'div', class_='bxr-element-slider').text.split('\\n') if text != '']\n",
    "\n",
    "    result['Описание'] = re.sub('[\\r\\n\\t\\f]', '', soup.find(\n",
    "        'div', class_='bxr-detail').text).replace(u'\\xa0', u' ').strip()\n",
    "\n",
    "    score = soup.find('meta', itemprop='ratingValue')\n",
    "    if score is None:\n",
    "        result['Оценка'] = 0\n",
    "    else:\n",
    "        result['Оценка'] = float(score['content'])\n",
    "\n",
    "    votes = soup.find('meta', itemprop='ratingCount')\n",
    "    if votes is None:\n",
    "        result['Число голосов'] = 0\n",
    "    else:\n",
    "        result['Число голосов'] = int(votes['content'])\n",
    "\n",
    "    result['Наличие'] = soup.find('div', itemprop='availability').text\n",
    "\n",
    "    result['Цена'] = float(soup.find('meta', itemprop='price')['content'])\n",
    "\n",
    "    if 'ПТВ' in result['Метки']:\n",
    "        regular = regular = re.compile('\"PRICE\" : (\\d+)')\n",
    "        text = regular.search(book)\n",
    "        if text is not None:\n",
    "            result['Цена (скидка)'] = float(regular.search(book).group(1))\n",
    "        else:\n",
    "            print('Can\\'t find the lower price {}'.format(result['url']))\n",
    "\n",
    "    table = soup.find('table', class_=\"bxr-props-table\").find_all('td')\n",
    "    for key, value in zip(table[::2], table[1::2]):\n",
    "        key_ = key.text.strip().replace('\\n', '')\n",
    "        value_ = value.text.strip().replace('\\n', '')\n",
    "        if key_ == 'Издатель':\n",
    "            value_ = value_.replace('(сайт издательства)', '')\n",
    "        result[key_] = value_\n",
    "    \n",
    "    return result"
   ]
  },
  {
   "cell_type": "code",
   "execution_count": 6,
   "metadata": {},
   "outputs": [],
   "source": [
    "from multiprocessing.dummy import Pool, Queue"
   ]
  },
  {
   "cell_type": "code",
   "execution_count": 7,
   "metadata": {},
   "outputs": [
    {
     "data": {
      "text/plain": [
       "5012"
      ]
     },
     "execution_count": 7,
     "metadata": {},
     "output_type": "execute_result"
    }
   ],
   "source": [
    "queue = Queue()   # очередь ссылок на книги\n",
    "\n",
    "for i in list(url_books_set):\n",
    "        queue.put(i)\n",
    "\n",
    "queue.qsize()"
   ]
  },
  {
   "cell_type": "code",
   "execution_count": 8,
   "metadata": {},
   "outputs": [],
   "source": [
    "def process_page_wrapper(i):\n",
    "    with gzip.open('data/part_{:05d}.jsonl.gz'.format(i), mode='wb') as f_json:\n",
    "        f_json = codecs.getwriter('utf8')(f_json)\n",
    "        while not queue.empty():\n",
    "            record = process_page(queue.get())\n",
    "            if type(record) is not dict:\n",
    "                print('Can\\'t reach the page {}'.format(record.url))\n",
    "                with lock:\n",
    "                    with open('not_completed.txt', 'a') as file:\n",
    "                        print(record.url, file=file)\n",
    "                continue\n",
    "            \n",
    "            record_str = json.dumps(record, ensure_ascii=False)\n",
    "            print(record_str, file=f_json)\n",
    "            # счетчик должен атомарно обновиться\n",
    "            with lock:\n",
    "                pbar.update(1)"
   ]
  },
  {
   "cell_type": "code",
   "execution_count": 9,
   "metadata": {
    "scrolled": true
   },
   "outputs": [
    {
     "data": {
      "application/vnd.jupyter.widget-view+json": {
       "model_id": "007f25adbf8b41e0a7bd26655053c3a0",
       "version_major": 2,
       "version_minor": 0
      },
      "text/plain": [
       "HBox(children=(HTML(value=''), FloatProgress(value=0.0, max=5012.0), HTML(value='')))"
      ]
     },
     "metadata": {},
     "output_type": "display_data"
    },
    {
     "name": "stdout",
     "output_type": "stream",
     "text": [
      "\n"
     ]
    }
   ],
   "source": [
    "with Pool(processes=8) as pool, tqdm(total=queue.qsize()) as pbar:\n",
    "    lock = pbar.get_lock()\n",
    "    pool.map(process_page_wrapper, range(pool._processes))\n",
    "\n",
    "pool.join()"
   ]
  },
  {
   "cell_type": "code",
   "execution_count": 10,
   "metadata": {},
   "outputs": [],
   "source": [
    "import pandas as pd\n",
    "\n",
    "from itertools import chain         # рекомендуется использовать\n",
    "from contextlib import ExitStack    # рекомендуется использовать\n",
    "\n",
    "from typing import Generator, Dict, Any\n",
    "import os"
   ]
  },
  {
   "cell_type": "code",
   "execution_count": 11,
   "metadata": {},
   "outputs": [],
   "source": [
    "def records_reader(dirname: str) -> Generator[Dict[str, Any], None, None]:\n",
    "    with ExitStack() as stack:\n",
    "        for f_json in chain([stack.enter_context(gzip.open(dirname+'/'+gfile, mode='rb'))\n",
    "                            for gfile in os.listdir(path=dirname)]):\n",
    "            \n",
    "            f_json = codecs.getreader('utf8')(f_json)\n",
    "            for book in f_json:\n",
    "                try:\n",
    "                    yield json.loads(book)\n",
    "                except:\n",
    "                    print(book)"
   ]
  },
  {
   "cell_type": "code",
   "execution_count": 12,
   "metadata": {
    "scrolled": true
   },
   "outputs": [
    {
     "name": "stdout",
     "output_type": "stream",
     "text": [
      "{\"url\": \"https://shop.relod.ru/catalog-products/the_chrysalids/\", \"Название\": \"The Chrysalids\", \"Иллюстрации\": [\"https://opt-1458870.ssl.1c-bitrix-cdn.ru/upload/iblock/231/231151eda3ea5ffb2a019b23756aae91.jpg?153114449240832\"], \"Метки\": [], \"Описание\": \"David Strorms father doesnt approve of Angus Mortons unusually large horses, calling them blasphemies against nature. Little does he realize that his own son, his niece Rosalind and their friends, have their own secret aberration which would label them as mutants. But as David and Rosalind grow older it becomes more difficult to conceal their differences from the village elders. Soon they face a choice: wait for eventual discovery or flee to the terrifying and mutable Badlands ",
      "\n",
      " The Chrysalids is a post-nuclear story of genetic mutation in a devastated world, which tells of the lengths the intolerant will go to to keep themselves pure.\", \"Оценка\": 0, \"Число голосов\": 0, \"Наличие\": \"Под заказ\", \"Цена\": 678.0, \"ISBN\": \"9780141038469\", \"Издатель\": \"Penguin\", \"Автор\": \"Wyndham John\", \"Язык\": \"English\", \"Возрастные ограничения\": \"16+\", \"Рекомендованный возраст\": \"16+\", \"Формат\": \"Paperback\", \"Страницы\": \"208\", \"Год издания\": \"2008\", \"Вес (грамм)\": \"117\", \"Размер (мм)\": \"181(д) х 111(ш) х 13(в)\"}\n",
      "\n"
     ]
    },
    {
     "data": {
      "text/plain": [
       "(5011, 29)"
      ]
     },
     "execution_count": 12,
     "metadata": {},
     "output_type": "execute_result"
    }
   ],
   "source": [
    "df = pd.DataFrame(records_reader('data'))\n",
    "df.shape"
   ]
  },
  {
   "cell_type": "code",
   "execution_count": 13,
   "metadata": {},
   "outputs": [],
   "source": [
    "df.to_csv('result.csv', index=False)"
   ]
  }
 ],
 "metadata": {
  "kernelspec": {
   "display_name": "sphere-py37",
   "language": "python",
   "name": "sphere-py37"
  },
  "language_info": {
   "codemirror_mode": {
    "name": "ipython",
    "version": 3
   },
   "file_extension": ".py",
   "mimetype": "text/x-python",
   "name": "python",
   "nbconvert_exporter": "python",
   "pygments_lexer": "ipython3",
   "version": "3.7.9"
  }
 },
 "nbformat": 4,
 "nbformat_minor": 4
}
